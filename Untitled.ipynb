{
 "cells": [
  {
   "cell_type": "markdown",
   "metadata": {},
   "source": [
    "![imagenes](logo.png)"
   ]
  },
  {
   "cell_type": "markdown",
   "metadata": {},
   "source": [
    "# C01. Ingreso y formato de datos\n",
    "\n",
    "## Estructura básica de Excel\n",
    "\n",
    "La pantalla de Excel se divide en tres sectores principales:\n",
    "\n",
    "**Planilla de cálculos.** Esta se estructura por filas y columnas que conforman celdas o rangos donde se puede escribir texto, números, fórmulas, operaciones entre datos e incluso imágenes y gráficas.\n",
    "\n",
    "Todo documento de Excel se dice que es un *libro*. Por defecto, los libros están formados por una hoja. Es posible agregar tantos hojas como se requiera. El nombre de la hoja que viene por defecto es, por lo general, Hoja1. El símbolo de $\\oplus$ a su costado derecho sirve para añadir nuevas hojas. E incluso puedes cambiar el nombre de cada una de las hojas.\n",
    "\n",
    "Otras herramientas importantes de la Planilla de cálculos son el Zoom y tres vistas: clásica, diseño de página y vista previa de salto de página.\n",
    "\n",
    "Tenemos además un recuadro de nombres que nos indica en qué celda estamos posicionados, y una barra de fórmulas.\n",
    "\n",
    "![imagenes](exce01.png)"
   ]
  },
  {
   "cell_type": "markdown",
   "metadata": {},
   "source": [
    "**Cinta de opciones** contiene agrupadas cada una de las herramientas que funcionan con Excel. \n",
    "\n",
    "![imagenes](exce02.png)"
   ]
  },
  {
   "cell_type": "markdown",
   "metadata": {},
   "source": [
    "**Barra Superior** donde aparecen opciones de acceso rápido para guardado, deshacer, rehacer (e incluso autoguardad en Excel 365), el nombre del documento y opciones para realizar cambios en la vista de la Cinta de opciones (en 365 se incluye además un buscador).\n",
    "\n",
    "![imagenes](exce03.png)"
   ]
  },
  {
   "cell_type": "markdown",
   "metadata": {},
   "source": [
    "## Guardado de libros\n",
    "\n",
    "Hay tres maneras de guardar un libro de Excel:\n",
    "* Click en el ícóno de disquete en la Barra Superior\n",
    "* ``Ctrl``+``G``\n",
    "* Desde la pestaña de *Archivo* situada en la Cinta de Opciones"
   ]
  },
  {
   "cell_type": "markdown",
   "metadata": {},
   "source": [
    "## Ingreso de datos\n",
    "\n",
    "Hay dos maneras de ingresar datos a nuestro libro desde el teclado:\n",
    "* Celdas\n",
    "* Barra de fórmulas\n",
    "\n",
    "En las celdas se pueden escribir tanto palabras como números (y otras muchas cosas más). \n",
    "\n",
    "### Ingreso de datos por referencia\n",
    "\n",
    "También se puede hacer ingreso de datos por referencia. Es decir, utilizar datos de alguna celda para llenar datos en otra celda mediante una referencia. Esto se hace de manera muy simple: te situas en la celda donde quieres escribir y escribes ``=Xn`` donde X es la columna y n es la fila de la celda a la que quieres hacer la referencia o bien, escribiendo `=` y luego click en la celda de donde harás la referencia.\n",
    "\n",
    "### Edición y eliminación de datos\n",
    "\n",
    "Para eliminar el dato en una celda, simplemente nos situamos ahí y oprimimos el botón de borrado de nuestro teclado y luego tecleamos ``Enter``. Por otra parte, para editar datos tenemos tres maneras:\n",
    "* Doble click dentro de la celda a editar.\n",
    "* Presionar ``F2`` de tu teclado colocado sobre la celda quieres editar.\n",
    "* Desde la barra de fórmulas\n",
    "\n",
    "Además Excel acepta las combinaciones de teclas ``Ctrl``+``z`` para deshacer el último cambio y ``Ctrl``+``y`` para rehacerlo. Sin embargo, en la barra superior también se cuenta con botones para deshacer y hacer. Pero además, dando click en las las flechas $\\downarrow$ que se encuentran junto a los botones de deshacer y rehacer puedes ver un historial de los cambios que has estado haciendo.   \n",
    "\n",
    "Por otra parte, una acción relacionada con rehacer/deshacer es repetir. En Excel, la última acción siempre queda guardada en ``F4`` (o bien, personalizando la barra superior).\n",
    "\n",
    "### Autorrelleno\n",
    "\n",
    "Excel tiene incorporadas listas de datos que le permiten anticiparse a cuál es tu intención cuando quieres escribir una lista. Por ejemplo, los meses, los días o los números. Es importante saber que este autorrelleno se puede hacer en cualquier dirección.\n",
    "\n",
    "Mejor aún: puedes definir tus propias listas de autorrelleno. Para ello, debes seguir la siguiente ruta: Archivo$\\rightarrow$Opciones$\\rightarrow$Avanzadas, y en el recuadro de General, busca la opción *Modificar listas...* Primero notarás las listas predeterminadas que ya tiene tu Excel. A continuación, seleccionando Lista Nueva, podrás ingresar uno por uno los elementos de la lista que añadirás. Finalmente das click en Agregar$\\rightarrow$Aceptar$\\rightarrow$Aceptar y tendrás tu lista personalizada. \n",
    "\n",
    "\n",
    "Otra manera es apartir de una lista que ya tienes escrita en algún libro de Excel. Para esto, sigue la misma ruta para agregar lista, pero en lugar de escribir directamente en el recuadro los elementos, da click en el botón selecciona las celdas donde están los elementos de tu lista.\n",
    "\n",
    "Otras dos opciones de autorrelleno muy interesantes son el reconocimiento de patrones y el autorrelleno vertical. Incluso, se pueden hacer rellenos en rangos de celdas. Para esto esto último se selecciona un rango y se teclea el dato que se desea repetir. Luego, se sigue la combinación de teclas `Ctrl`+`Mayus`+`Enter`."
   ]
  },
  {
   "cell_type": "markdown",
   "metadata": {},
   "source": [
    "## Formateo de datos\n",
    "\n",
    "Existen cinco maneras de acceder al formateo de un texto. Antes de comentarlos, es importante saber que se pueden hacer formatos parciales. Esto es, dentro de una misma celda, la información contenida puede tener diferentes formatos.\n",
    "\n",
    "* Desde la cinta de opciones: Nos dirigimos al área de *Fuente* dentro de *Inicio*. Desde ahí puedes controla el tipo de letra, el tamaño, negritas, cursivas, subrayado, color de celda y color de fuente.\n",
    "\n",
    "* Formato de celdas: click con el botón derecho de la celda.\n",
    "\n",
    "* Fuentes\n",
    "\n",
    "* Atajo de teclado: ``Ctrl``+``Mayus``+``F``.\n",
    "\n",
    "* Flotante: Selecciona el texto dentro de la celda.\n",
    "\n",
    "### Copiar formato\n",
    "\n",
    "Es importante saber que cuando hacemos formato de un texto en una celda, **en realidad estamos cambiando los atributos de la celda y no del texto**.\n",
    "\n",
    "Dicho esto, una herramiento muy poderosa de Excel es el copiado de formato. Para ello, nos ubicamos en el apartado *Inicio* y en el subapartado de *Portapapeles* y damos click en el botón de Copiar formato.\n",
    "\n",
    "### Cambiar dimensiones de las celdas\n",
    "\n",
    "Muy probablemente te encuentres en la situación de que la información en una celda no alcanza a visualizare. Para arreglar este problema, podemos cambiar el ancho y alto de las columnas y las filas.\n",
    "\n",
    "**Cambiando el ancho de columna**\n",
    "* Ajuste numérico: te paras en la cabecera de la columna, das click con el botón derecho y buscas la opción *Ancho de columna*. Ahí podrás especificar el ancho que deseas.\n",
    "\n",
    "* Ajuste automático.\n",
    "\n",
    "* Ajuste manual.\n",
    "\n",
    "**Cambiando alto de filas**\n",
    "\n",
    "Se pueden aplicar los mismos tres métodos que para ancho de columna.\n",
    "\n",
    "### Alinear datos\n",
    "\n",
    "Por default, Excel siempre escribe datos de tipo texto alineados a la izquierda y abajo, y datos de tipo numérico alineados a la derecha y abajo. Mediante la sección de *Alineación* en *Inicio* podemos cambiar esa configuración de alineación.\n",
    "\n",
    "### Combinar celdas y alineación\n",
    "\n",
    "\n",
    "\n"
   ]
  }
 ],
 "metadata": {
  "kernelspec": {
   "display_name": "Python 3",
   "language": "python",
   "name": "python3"
  },
  "language_info": {
   "codemirror_mode": {
    "name": "ipython",
    "version": 3
   },
   "file_extension": ".py",
   "mimetype": "text/x-python",
   "name": "python",
   "nbconvert_exporter": "python",
   "pygments_lexer": "ipython3",
   "version": "3.7.7"
  }
 },
 "nbformat": 4,
 "nbformat_minor": 4
}
